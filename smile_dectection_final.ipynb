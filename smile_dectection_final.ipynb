{
  "cells": [
    {
      "cell_type": "code",
      "execution_count": 1,
      "metadata": {
        "colab": {
          "base_uri": "https://localhost:8080/"
        },
        "id": "J4OCmodRZth2",
        "outputId": "14a97e6a-119d-4a1d-acaa-20e80cb86869"
      },
      "outputs": [
        {
          "output_type": "stream",
          "name": "stdout",
          "text": [
            "Mounted at /content/drive\n"
          ]
        }
      ],
      "source": [
        "from google.colab import drive\n",
        "drive.mount('/content/drive')"
      ]
    },
    {
      "cell_type": "markdown",
      "metadata": {
        "id": "BVK02pE8NUYP"
      },
      "source": [
        "**Mounting Drive**"
      ]
    },
    {
      "cell_type": "code",
      "execution_count": 2,
      "metadata": {
        "id": "B3rnWMTT3lqQ"
      },
      "outputs": [],
      "source": [
        "from keras.models import Sequential\n",
        "from keras_preprocessing.image import ImageDataGenerator\n",
        "from keras import regularizers, optimizers\n",
        "from keras.layers import Dense, Activation, Flatten, Dropout, BatchNormalization\n",
        "from keras.layers import Conv2D, MaxPooling2D\n",
        "from tensorflow.keras import layers\n",
        "import tensorflow as tf\n",
        "import pandas as pd\n",
        "import numpy as np"
      ]
    },
    {
      "cell_type": "markdown",
      "metadata": {
        "id": "Yy1TOjaiNjWU"
      },
      "source": [
        "Loading Data from Drive"
      ]
    },
    {
      "cell_type": "code",
      "execution_count": 3,
      "metadata": {
        "colab": {
          "base_uri": "https://localhost:8080/"
        },
        "id": "_qYjVN0l6CBs",
        "outputId": "bd0817a0-3cdc-4f6a-fd81-a4aed4238bab"
      },
      "outputs": [
        {
          "output_type": "execute_result",
          "data": {
            "text/plain": [
              "(4831, 1611)"
            ]
          },
          "metadata": {},
          "execution_count": 3
        }
      ],
      "source": [
        "train_data=pd.read_csv(r'/content/drive/MyDrive/Project_smile_classification/train.csv',header=None)\n",
        "test_data=pd.read_csv(r'/content/drive/MyDrive/Project_smile_classification/test.csv',header=None)\n",
        "len(train_data),len(test_data)"
      ]
    },
    {
      "cell_type": "markdown",
      "metadata": {
        "id": "6XV1Y8tIQ7qA"
      },
      "source": [
        "Data Visualisation"
      ]
    },
    {
      "cell_type": "code",
      "execution_count": 4,
      "metadata": {
        "colab": {
          "base_uri": "https://localhost:8080/",
          "height": 206
        },
        "id": "0uoS0D8j7xpI",
        "outputId": "23cda03f-83c4-4744-ed2b-16844a8c4593"
      },
      "outputs": [
        {
          "output_type": "execute_result",
          "data": {
            "text/html": [
              "\n",
              "  <div id=\"df-3bb3eaea-c098-4a4f-8a17-3ccc34c39401\">\n",
              "    <div class=\"colab-df-container\">\n",
              "      <div>\n",
              "<style scoped>\n",
              "    .dataframe tbody tr th:only-of-type {\n",
              "        vertical-align: middle;\n",
              "    }\n",
              "\n",
              "    .dataframe tbody tr th {\n",
              "        vertical-align: top;\n",
              "    }\n",
              "\n",
              "    .dataframe thead th {\n",
              "        text-align: right;\n",
              "    }\n",
              "</style>\n",
              "<table border=\"1\" class=\"dataframe\">\n",
              "  <thead>\n",
              "    <tr style=\"text-align: right;\">\n",
              "      <th></th>\n",
              "      <th>0</th>\n",
              "      <th>1</th>\n",
              "    </tr>\n",
              "  </thead>\n",
              "  <tbody>\n",
              "    <tr>\n",
              "      <th>0</th>\n",
              "      <td>05684c70-113d-4894-920e-140edf323528</td>\n",
              "      <td>negative smile</td>\n",
              "    </tr>\n",
              "    <tr>\n",
              "      <th>1</th>\n",
              "      <td>0403faa2-2d45-4779-b40a-794c220d3855</td>\n",
              "      <td>positive smile</td>\n",
              "    </tr>\n",
              "    <tr>\n",
              "      <th>2</th>\n",
              "      <td>1ba6784e-3684-4f76-81b7-504610a497e1</td>\n",
              "      <td>positive smile</td>\n",
              "    </tr>\n",
              "    <tr>\n",
              "      <th>3</th>\n",
              "      <td>675c87fb-bf50-481e-949d-07b5dc14b589</td>\n",
              "      <td>positive smile</td>\n",
              "    </tr>\n",
              "    <tr>\n",
              "      <th>4</th>\n",
              "      <td>02567fbb-1147-4186-8d7d-38611569fc06</td>\n",
              "      <td>NOT smile</td>\n",
              "    </tr>\n",
              "  </tbody>\n",
              "</table>\n",
              "</div>\n",
              "      <button class=\"colab-df-convert\" onclick=\"convertToInteractive('df-3bb3eaea-c098-4a4f-8a17-3ccc34c39401')\"\n",
              "              title=\"Convert this dataframe to an interactive table.\"\n",
              "              style=\"display:none;\">\n",
              "        \n",
              "  <svg xmlns=\"http://www.w3.org/2000/svg\" height=\"24px\"viewBox=\"0 0 24 24\"\n",
              "       width=\"24px\">\n",
              "    <path d=\"M0 0h24v24H0V0z\" fill=\"none\"/>\n",
              "    <path d=\"M18.56 5.44l.94 2.06.94-2.06 2.06-.94-2.06-.94-.94-2.06-.94 2.06-2.06.94zm-11 1L8.5 8.5l.94-2.06 2.06-.94-2.06-.94L8.5 2.5l-.94 2.06-2.06.94zm10 10l.94 2.06.94-2.06 2.06-.94-2.06-.94-.94-2.06-.94 2.06-2.06.94z\"/><path d=\"M17.41 7.96l-1.37-1.37c-.4-.4-.92-.59-1.43-.59-.52 0-1.04.2-1.43.59L10.3 9.45l-7.72 7.72c-.78.78-.78 2.05 0 2.83L4 21.41c.39.39.9.59 1.41.59.51 0 1.02-.2 1.41-.59l7.78-7.78 2.81-2.81c.8-.78.8-2.07 0-2.86zM5.41 20L4 18.59l7.72-7.72 1.47 1.35L5.41 20z\"/>\n",
              "  </svg>\n",
              "      </button>\n",
              "      \n",
              "  <style>\n",
              "    .colab-df-container {\n",
              "      display:flex;\n",
              "      flex-wrap:wrap;\n",
              "      gap: 12px;\n",
              "    }\n",
              "\n",
              "    .colab-df-convert {\n",
              "      background-color: #E8F0FE;\n",
              "      border: none;\n",
              "      border-radius: 50%;\n",
              "      cursor: pointer;\n",
              "      display: none;\n",
              "      fill: #1967D2;\n",
              "      height: 32px;\n",
              "      padding: 0 0 0 0;\n",
              "      width: 32px;\n",
              "    }\n",
              "\n",
              "    .colab-df-convert:hover {\n",
              "      background-color: #E2EBFA;\n",
              "      box-shadow: 0px 1px 2px rgba(60, 64, 67, 0.3), 0px 1px 3px 1px rgba(60, 64, 67, 0.15);\n",
              "      fill: #174EA6;\n",
              "    }\n",
              "\n",
              "    [theme=dark] .colab-df-convert {\n",
              "      background-color: #3B4455;\n",
              "      fill: #D2E3FC;\n",
              "    }\n",
              "\n",
              "    [theme=dark] .colab-df-convert:hover {\n",
              "      background-color: #434B5C;\n",
              "      box-shadow: 0px 1px 3px 1px rgba(0, 0, 0, 0.15);\n",
              "      filter: drop-shadow(0px 1px 2px rgba(0, 0, 0, 0.3));\n",
              "      fill: #FFFFFF;\n",
              "    }\n",
              "  </style>\n",
              "\n",
              "      <script>\n",
              "        const buttonEl =\n",
              "          document.querySelector('#df-3bb3eaea-c098-4a4f-8a17-3ccc34c39401 button.colab-df-convert');\n",
              "        buttonEl.style.display =\n",
              "          google.colab.kernel.accessAllowed ? 'block' : 'none';\n",
              "\n",
              "        async function convertToInteractive(key) {\n",
              "          const element = document.querySelector('#df-3bb3eaea-c098-4a4f-8a17-3ccc34c39401');\n",
              "          const dataTable =\n",
              "            await google.colab.kernel.invokeFunction('convertToInteractive',\n",
              "                                                     [key], {});\n",
              "          if (!dataTable) return;\n",
              "\n",
              "          const docLinkHtml = 'Like what you see? Visit the ' +\n",
              "            '<a target=\"_blank\" href=https://colab.research.google.com/notebooks/data_table.ipynb>data table notebook</a>'\n",
              "            + ' to learn more about interactive tables.';\n",
              "          element.innerHTML = '';\n",
              "          dataTable['output_type'] = 'display_data';\n",
              "          await google.colab.output.renderOutput(dataTable, element);\n",
              "          const docLink = document.createElement('div');\n",
              "          docLink.innerHTML = docLinkHtml;\n",
              "          element.appendChild(docLink);\n",
              "        }\n",
              "      </script>\n",
              "    </div>\n",
              "  </div>\n",
              "  "
            ],
            "text/plain": [
              "                                      0               1\n",
              "0  05684c70-113d-4894-920e-140edf323528  negative smile\n",
              "1  0403faa2-2d45-4779-b40a-794c220d3855  positive smile\n",
              "2  1ba6784e-3684-4f76-81b7-504610a497e1  positive smile\n",
              "3  675c87fb-bf50-481e-949d-07b5dc14b589  positive smile\n",
              "4  02567fbb-1147-4186-8d7d-38611569fc06       NOT smile"
            ]
          },
          "metadata": {},
          "execution_count": 4
        }
      ],
      "source": [
        "train_data.head()"
      ]
    },
    {
      "cell_type": "code",
      "execution_count": 5,
      "metadata": {
        "colab": {
          "base_uri": "https://localhost:8080/",
          "height": 206
        },
        "id": "Vio2oTtz7xe2",
        "outputId": "ccef31fc-dc93-493d-e16e-7395f7f2ece2"
      },
      "outputs": [
        {
          "output_type": "execute_result",
          "data": {
            "text/html": [
              "\n",
              "  <div id=\"df-668f4c58-276e-4288-8622-7e737b119861\">\n",
              "    <div class=\"colab-df-container\">\n",
              "      <div>\n",
              "<style scoped>\n",
              "    .dataframe tbody tr th:only-of-type {\n",
              "        vertical-align: middle;\n",
              "    }\n",
              "\n",
              "    .dataframe tbody tr th {\n",
              "        vertical-align: top;\n",
              "    }\n",
              "\n",
              "    .dataframe thead th {\n",
              "        text-align: right;\n",
              "    }\n",
              "</style>\n",
              "<table border=\"1\" class=\"dataframe\">\n",
              "  <thead>\n",
              "    <tr style=\"text-align: right;\">\n",
              "      <th></th>\n",
              "      <th>0</th>\n",
              "      <th>1</th>\n",
              "    </tr>\n",
              "  </thead>\n",
              "  <tbody>\n",
              "    <tr>\n",
              "      <th>0</th>\n",
              "      <td>7a0e7396-47ca-421c-84bc-de7c946fc163</td>\n",
              "      <td>NOT smile</td>\n",
              "    </tr>\n",
              "    <tr>\n",
              "      <th>1</th>\n",
              "      <td>1e53ec28-b4c0-4eef-ad91-4940f535d354</td>\n",
              "      <td>NOT smile</td>\n",
              "    </tr>\n",
              "    <tr>\n",
              "      <th>2</th>\n",
              "      <td>05f0d520-8e85-4490-a160-5a346fc21fd3</td>\n",
              "      <td>positive smile</td>\n",
              "    </tr>\n",
              "    <tr>\n",
              "      <th>3</th>\n",
              "      <td>0adf2567-b325-47a8-a2c9-83b34c021163</td>\n",
              "      <td>NOT smile</td>\n",
              "    </tr>\n",
              "    <tr>\n",
              "      <th>4</th>\n",
              "      <td>0df7e500-a1d0-44dd-923d-25809fa38611</td>\n",
              "      <td>NOT smile</td>\n",
              "    </tr>\n",
              "  </tbody>\n",
              "</table>\n",
              "</div>\n",
              "      <button class=\"colab-df-convert\" onclick=\"convertToInteractive('df-668f4c58-276e-4288-8622-7e737b119861')\"\n",
              "              title=\"Convert this dataframe to an interactive table.\"\n",
              "              style=\"display:none;\">\n",
              "        \n",
              "  <svg xmlns=\"http://www.w3.org/2000/svg\" height=\"24px\"viewBox=\"0 0 24 24\"\n",
              "       width=\"24px\">\n",
              "    <path d=\"M0 0h24v24H0V0z\" fill=\"none\"/>\n",
              "    <path d=\"M18.56 5.44l.94 2.06.94-2.06 2.06-.94-2.06-.94-.94-2.06-.94 2.06-2.06.94zm-11 1L8.5 8.5l.94-2.06 2.06-.94-2.06-.94L8.5 2.5l-.94 2.06-2.06.94zm10 10l.94 2.06.94-2.06 2.06-.94-2.06-.94-.94-2.06-.94 2.06-2.06.94z\"/><path d=\"M17.41 7.96l-1.37-1.37c-.4-.4-.92-.59-1.43-.59-.52 0-1.04.2-1.43.59L10.3 9.45l-7.72 7.72c-.78.78-.78 2.05 0 2.83L4 21.41c.39.39.9.59 1.41.59.51 0 1.02-.2 1.41-.59l7.78-7.78 2.81-2.81c.8-.78.8-2.07 0-2.86zM5.41 20L4 18.59l7.72-7.72 1.47 1.35L5.41 20z\"/>\n",
              "  </svg>\n",
              "      </button>\n",
              "      \n",
              "  <style>\n",
              "    .colab-df-container {\n",
              "      display:flex;\n",
              "      flex-wrap:wrap;\n",
              "      gap: 12px;\n",
              "    }\n",
              "\n",
              "    .colab-df-convert {\n",
              "      background-color: #E8F0FE;\n",
              "      border: none;\n",
              "      border-radius: 50%;\n",
              "      cursor: pointer;\n",
              "      display: none;\n",
              "      fill: #1967D2;\n",
              "      height: 32px;\n",
              "      padding: 0 0 0 0;\n",
              "      width: 32px;\n",
              "    }\n",
              "\n",
              "    .colab-df-convert:hover {\n",
              "      background-color: #E2EBFA;\n",
              "      box-shadow: 0px 1px 2px rgba(60, 64, 67, 0.3), 0px 1px 3px 1px rgba(60, 64, 67, 0.15);\n",
              "      fill: #174EA6;\n",
              "    }\n",
              "\n",
              "    [theme=dark] .colab-df-convert {\n",
              "      background-color: #3B4455;\n",
              "      fill: #D2E3FC;\n",
              "    }\n",
              "\n",
              "    [theme=dark] .colab-df-convert:hover {\n",
              "      background-color: #434B5C;\n",
              "      box-shadow: 0px 1px 3px 1px rgba(0, 0, 0, 0.15);\n",
              "      filter: drop-shadow(0px 1px 2px rgba(0, 0, 0, 0.3));\n",
              "      fill: #FFFFFF;\n",
              "    }\n",
              "  </style>\n",
              "\n",
              "      <script>\n",
              "        const buttonEl =\n",
              "          document.querySelector('#df-668f4c58-276e-4288-8622-7e737b119861 button.colab-df-convert');\n",
              "        buttonEl.style.display =\n",
              "          google.colab.kernel.accessAllowed ? 'block' : 'none';\n",
              "\n",
              "        async function convertToInteractive(key) {\n",
              "          const element = document.querySelector('#df-668f4c58-276e-4288-8622-7e737b119861');\n",
              "          const dataTable =\n",
              "            await google.colab.kernel.invokeFunction('convertToInteractive',\n",
              "                                                     [key], {});\n",
              "          if (!dataTable) return;\n",
              "\n",
              "          const docLinkHtml = 'Like what you see? Visit the ' +\n",
              "            '<a target=\"_blank\" href=https://colab.research.google.com/notebooks/data_table.ipynb>data table notebook</a>'\n",
              "            + ' to learn more about interactive tables.';\n",
              "          element.innerHTML = '';\n",
              "          dataTable['output_type'] = 'display_data';\n",
              "          await google.colab.output.renderOutput(dataTable, element);\n",
              "          const docLink = document.createElement('div');\n",
              "          docLink.innerHTML = docLinkHtml;\n",
              "          element.appendChild(docLink);\n",
              "        }\n",
              "      </script>\n",
              "    </div>\n",
              "  </div>\n",
              "  "
            ],
            "text/plain": [
              "                                      0               1\n",
              "0  7a0e7396-47ca-421c-84bc-de7c946fc163       NOT smile\n",
              "1  1e53ec28-b4c0-4eef-ad91-4940f535d354       NOT smile\n",
              "2  05f0d520-8e85-4490-a160-5a346fc21fd3  positive smile\n",
              "3  0adf2567-b325-47a8-a2c9-83b34c021163       NOT smile\n",
              "4  0df7e500-a1d0-44dd-923d-25809fa38611       NOT smile"
            ]
          },
          "metadata": {},
          "execution_count": 5
        }
      ],
      "source": [
        "test_data.head()"
      ]
    },
    {
      "cell_type": "code",
      "execution_count": 6,
      "metadata": {
        "id": "Lhhc7jmM8Rs7"
      },
      "outputs": [],
      "source": [
        "train_data.columns = [\"id_name\", \"smile_class\"]\n",
        "test_data.columns = [\"id_name\", \"smile_class\"]"
      ]
    },
    {
      "cell_type": "code",
      "execution_count": 7,
      "metadata": {
        "id": "0CQYdwXdZjkg"
      },
      "outputs": [],
      "source": [
        "def append_jpg(s):\n",
        "  return s+\".jpg\"\n",
        "\n",
        "col=list(train_data[\"id_name\"])\n",
        "mod_col=[]\n",
        "for s in col:\n",
        "    mod_col.append(append_jpg(s))\n",
        "train_data[\"id_name\"]=mod_col\n",
        "\n",
        "\n",
        "col2=list(test_data[\"id_name\"])\n",
        "mod_col2=[]\n",
        "for s in col2:\n",
        "    mod_col2.append(append_jpg(s))\n",
        "test_data[\"id_name\"]=mod_col2"
      ]
    },
    {
      "cell_type": "code",
      "execution_count": 8,
      "metadata": {
        "colab": {
          "base_uri": "https://localhost:8080/",
          "height": 206
        },
        "id": "1axhmSROmL45",
        "outputId": "a3229422-75d1-4495-f20e-c2692a461935"
      },
      "outputs": [
        {
          "output_type": "execute_result",
          "data": {
            "text/html": [
              "\n",
              "  <div id=\"df-0ef25e83-24d5-4b2f-9dd6-a625bf9249c3\">\n",
              "    <div class=\"colab-df-container\">\n",
              "      <div>\n",
              "<style scoped>\n",
              "    .dataframe tbody tr th:only-of-type {\n",
              "        vertical-align: middle;\n",
              "    }\n",
              "\n",
              "    .dataframe tbody tr th {\n",
              "        vertical-align: top;\n",
              "    }\n",
              "\n",
              "    .dataframe thead th {\n",
              "        text-align: right;\n",
              "    }\n",
              "</style>\n",
              "<table border=\"1\" class=\"dataframe\">\n",
              "  <thead>\n",
              "    <tr style=\"text-align: right;\">\n",
              "      <th></th>\n",
              "      <th>id_name</th>\n",
              "      <th>smile_class</th>\n",
              "    </tr>\n",
              "  </thead>\n",
              "  <tbody>\n",
              "    <tr>\n",
              "      <th>0</th>\n",
              "      <td>05684c70-113d-4894-920e-140edf323528.jpg</td>\n",
              "      <td>negative smile</td>\n",
              "    </tr>\n",
              "    <tr>\n",
              "      <th>1</th>\n",
              "      <td>0403faa2-2d45-4779-b40a-794c220d3855.jpg</td>\n",
              "      <td>positive smile</td>\n",
              "    </tr>\n",
              "    <tr>\n",
              "      <th>2</th>\n",
              "      <td>1ba6784e-3684-4f76-81b7-504610a497e1.jpg</td>\n",
              "      <td>positive smile</td>\n",
              "    </tr>\n",
              "    <tr>\n",
              "      <th>3</th>\n",
              "      <td>675c87fb-bf50-481e-949d-07b5dc14b589.jpg</td>\n",
              "      <td>positive smile</td>\n",
              "    </tr>\n",
              "    <tr>\n",
              "      <th>4</th>\n",
              "      <td>02567fbb-1147-4186-8d7d-38611569fc06.jpg</td>\n",
              "      <td>NOT smile</td>\n",
              "    </tr>\n",
              "  </tbody>\n",
              "</table>\n",
              "</div>\n",
              "      <button class=\"colab-df-convert\" onclick=\"convertToInteractive('df-0ef25e83-24d5-4b2f-9dd6-a625bf9249c3')\"\n",
              "              title=\"Convert this dataframe to an interactive table.\"\n",
              "              style=\"display:none;\">\n",
              "        \n",
              "  <svg xmlns=\"http://www.w3.org/2000/svg\" height=\"24px\"viewBox=\"0 0 24 24\"\n",
              "       width=\"24px\">\n",
              "    <path d=\"M0 0h24v24H0V0z\" fill=\"none\"/>\n",
              "    <path d=\"M18.56 5.44l.94 2.06.94-2.06 2.06-.94-2.06-.94-.94-2.06-.94 2.06-2.06.94zm-11 1L8.5 8.5l.94-2.06 2.06-.94-2.06-.94L8.5 2.5l-.94 2.06-2.06.94zm10 10l.94 2.06.94-2.06 2.06-.94-2.06-.94-.94-2.06-.94 2.06-2.06.94z\"/><path d=\"M17.41 7.96l-1.37-1.37c-.4-.4-.92-.59-1.43-.59-.52 0-1.04.2-1.43.59L10.3 9.45l-7.72 7.72c-.78.78-.78 2.05 0 2.83L4 21.41c.39.39.9.59 1.41.59.51 0 1.02-.2 1.41-.59l7.78-7.78 2.81-2.81c.8-.78.8-2.07 0-2.86zM5.41 20L4 18.59l7.72-7.72 1.47 1.35L5.41 20z\"/>\n",
              "  </svg>\n",
              "      </button>\n",
              "      \n",
              "  <style>\n",
              "    .colab-df-container {\n",
              "      display:flex;\n",
              "      flex-wrap:wrap;\n",
              "      gap: 12px;\n",
              "    }\n",
              "\n",
              "    .colab-df-convert {\n",
              "      background-color: #E8F0FE;\n",
              "      border: none;\n",
              "      border-radius: 50%;\n",
              "      cursor: pointer;\n",
              "      display: none;\n",
              "      fill: #1967D2;\n",
              "      height: 32px;\n",
              "      padding: 0 0 0 0;\n",
              "      width: 32px;\n",
              "    }\n",
              "\n",
              "    .colab-df-convert:hover {\n",
              "      background-color: #E2EBFA;\n",
              "      box-shadow: 0px 1px 2px rgba(60, 64, 67, 0.3), 0px 1px 3px 1px rgba(60, 64, 67, 0.15);\n",
              "      fill: #174EA6;\n",
              "    }\n",
              "\n",
              "    [theme=dark] .colab-df-convert {\n",
              "      background-color: #3B4455;\n",
              "      fill: #D2E3FC;\n",
              "    }\n",
              "\n",
              "    [theme=dark] .colab-df-convert:hover {\n",
              "      background-color: #434B5C;\n",
              "      box-shadow: 0px 1px 3px 1px rgba(0, 0, 0, 0.15);\n",
              "      filter: drop-shadow(0px 1px 2px rgba(0, 0, 0, 0.3));\n",
              "      fill: #FFFFFF;\n",
              "    }\n",
              "  </style>\n",
              "\n",
              "      <script>\n",
              "        const buttonEl =\n",
              "          document.querySelector('#df-0ef25e83-24d5-4b2f-9dd6-a625bf9249c3 button.colab-df-convert');\n",
              "        buttonEl.style.display =\n",
              "          google.colab.kernel.accessAllowed ? 'block' : 'none';\n",
              "\n",
              "        async function convertToInteractive(key) {\n",
              "          const element = document.querySelector('#df-0ef25e83-24d5-4b2f-9dd6-a625bf9249c3');\n",
              "          const dataTable =\n",
              "            await google.colab.kernel.invokeFunction('convertToInteractive',\n",
              "                                                     [key], {});\n",
              "          if (!dataTable) return;\n",
              "\n",
              "          const docLinkHtml = 'Like what you see? Visit the ' +\n",
              "            '<a target=\"_blank\" href=https://colab.research.google.com/notebooks/data_table.ipynb>data table notebook</a>'\n",
              "            + ' to learn more about interactive tables.';\n",
              "          element.innerHTML = '';\n",
              "          dataTable['output_type'] = 'display_data';\n",
              "          await google.colab.output.renderOutput(dataTable, element);\n",
              "          const docLink = document.createElement('div');\n",
              "          docLink.innerHTML = docLinkHtml;\n",
              "          element.appendChild(docLink);\n",
              "        }\n",
              "      </script>\n",
              "    </div>\n",
              "  </div>\n",
              "  "
            ],
            "text/plain": [
              "                                    id_name     smile_class\n",
              "0  05684c70-113d-4894-920e-140edf323528.jpg  negative smile\n",
              "1  0403faa2-2d45-4779-b40a-794c220d3855.jpg  positive smile\n",
              "2  1ba6784e-3684-4f76-81b7-504610a497e1.jpg  positive smile\n",
              "3  675c87fb-bf50-481e-949d-07b5dc14b589.jpg  positive smile\n",
              "4  02567fbb-1147-4186-8d7d-38611569fc06.jpg       NOT smile"
            ]
          },
          "metadata": {},
          "execution_count": 8
        }
      ],
      "source": [
        "train_data.head()"
      ]
    },
    {
      "cell_type": "code",
      "execution_count": 9,
      "metadata": {
        "colab": {
          "base_uri": "https://localhost:8080/"
        },
        "id": "Ktva4i5OYXHl",
        "outputId": "66b2f6da-e665-4f67-d362-f20b52930a02"
      },
      "outputs": [
        {
          "output_type": "execute_result",
          "data": {
            "text/plain": [
              "(4831, 2)"
            ]
          },
          "metadata": {},
          "execution_count": 9
        }
      ],
      "source": [
        "train_data.shape"
      ]
    },
    {
      "cell_type": "code",
      "execution_count": 10,
      "metadata": {
        "colab": {
          "base_uri": "https://localhost:8080/",
          "height": 206
        },
        "id": "SM6S4NBbxlfV",
        "outputId": "b085eb1e-4dd9-4c3d-8acc-e95a0fed4751"
      },
      "outputs": [
        {
          "output_type": "execute_result",
          "data": {
            "text/html": [
              "\n",
              "  <div id=\"df-7b3576e5-6217-46ab-894b-f8b72d81ca91\">\n",
              "    <div class=\"colab-df-container\">\n",
              "      <div>\n",
              "<style scoped>\n",
              "    .dataframe tbody tr th:only-of-type {\n",
              "        vertical-align: middle;\n",
              "    }\n",
              "\n",
              "    .dataframe tbody tr th {\n",
              "        vertical-align: top;\n",
              "    }\n",
              "\n",
              "    .dataframe thead th {\n",
              "        text-align: right;\n",
              "    }\n",
              "</style>\n",
              "<table border=\"1\" class=\"dataframe\">\n",
              "  <thead>\n",
              "    <tr style=\"text-align: right;\">\n",
              "      <th></th>\n",
              "      <th>id_name</th>\n",
              "      <th>smile_class</th>\n",
              "    </tr>\n",
              "  </thead>\n",
              "  <tbody>\n",
              "    <tr>\n",
              "      <th>0</th>\n",
              "      <td>7a0e7396-47ca-421c-84bc-de7c946fc163.jpg</td>\n",
              "      <td>NOT smile</td>\n",
              "    </tr>\n",
              "    <tr>\n",
              "      <th>1</th>\n",
              "      <td>1e53ec28-b4c0-4eef-ad91-4940f535d354.jpg</td>\n",
              "      <td>NOT smile</td>\n",
              "    </tr>\n",
              "    <tr>\n",
              "      <th>2</th>\n",
              "      <td>05f0d520-8e85-4490-a160-5a346fc21fd3.jpg</td>\n",
              "      <td>positive smile</td>\n",
              "    </tr>\n",
              "    <tr>\n",
              "      <th>3</th>\n",
              "      <td>0adf2567-b325-47a8-a2c9-83b34c021163.jpg</td>\n",
              "      <td>NOT smile</td>\n",
              "    </tr>\n",
              "    <tr>\n",
              "      <th>4</th>\n",
              "      <td>0df7e500-a1d0-44dd-923d-25809fa38611.jpg</td>\n",
              "      <td>NOT smile</td>\n",
              "    </tr>\n",
              "  </tbody>\n",
              "</table>\n",
              "</div>\n",
              "      <button class=\"colab-df-convert\" onclick=\"convertToInteractive('df-7b3576e5-6217-46ab-894b-f8b72d81ca91')\"\n",
              "              title=\"Convert this dataframe to an interactive table.\"\n",
              "              style=\"display:none;\">\n",
              "        \n",
              "  <svg xmlns=\"http://www.w3.org/2000/svg\" height=\"24px\"viewBox=\"0 0 24 24\"\n",
              "       width=\"24px\">\n",
              "    <path d=\"M0 0h24v24H0V0z\" fill=\"none\"/>\n",
              "    <path d=\"M18.56 5.44l.94 2.06.94-2.06 2.06-.94-2.06-.94-.94-2.06-.94 2.06-2.06.94zm-11 1L8.5 8.5l.94-2.06 2.06-.94-2.06-.94L8.5 2.5l-.94 2.06-2.06.94zm10 10l.94 2.06.94-2.06 2.06-.94-2.06-.94-.94-2.06-.94 2.06-2.06.94z\"/><path d=\"M17.41 7.96l-1.37-1.37c-.4-.4-.92-.59-1.43-.59-.52 0-1.04.2-1.43.59L10.3 9.45l-7.72 7.72c-.78.78-.78 2.05 0 2.83L4 21.41c.39.39.9.59 1.41.59.51 0 1.02-.2 1.41-.59l7.78-7.78 2.81-2.81c.8-.78.8-2.07 0-2.86zM5.41 20L4 18.59l7.72-7.72 1.47 1.35L5.41 20z\"/>\n",
              "  </svg>\n",
              "      </button>\n",
              "      \n",
              "  <style>\n",
              "    .colab-df-container {\n",
              "      display:flex;\n",
              "      flex-wrap:wrap;\n",
              "      gap: 12px;\n",
              "    }\n",
              "\n",
              "    .colab-df-convert {\n",
              "      background-color: #E8F0FE;\n",
              "      border: none;\n",
              "      border-radius: 50%;\n",
              "      cursor: pointer;\n",
              "      display: none;\n",
              "      fill: #1967D2;\n",
              "      height: 32px;\n",
              "      padding: 0 0 0 0;\n",
              "      width: 32px;\n",
              "    }\n",
              "\n",
              "    .colab-df-convert:hover {\n",
              "      background-color: #E2EBFA;\n",
              "      box-shadow: 0px 1px 2px rgba(60, 64, 67, 0.3), 0px 1px 3px 1px rgba(60, 64, 67, 0.15);\n",
              "      fill: #174EA6;\n",
              "    }\n",
              "\n",
              "    [theme=dark] .colab-df-convert {\n",
              "      background-color: #3B4455;\n",
              "      fill: #D2E3FC;\n",
              "    }\n",
              "\n",
              "    [theme=dark] .colab-df-convert:hover {\n",
              "      background-color: #434B5C;\n",
              "      box-shadow: 0px 1px 3px 1px rgba(0, 0, 0, 0.15);\n",
              "      filter: drop-shadow(0px 1px 2px rgba(0, 0, 0, 0.3));\n",
              "      fill: #FFFFFF;\n",
              "    }\n",
              "  </style>\n",
              "\n",
              "      <script>\n",
              "        const buttonEl =\n",
              "          document.querySelector('#df-7b3576e5-6217-46ab-894b-f8b72d81ca91 button.colab-df-convert');\n",
              "        buttonEl.style.display =\n",
              "          google.colab.kernel.accessAllowed ? 'block' : 'none';\n",
              "\n",
              "        async function convertToInteractive(key) {\n",
              "          const element = document.querySelector('#df-7b3576e5-6217-46ab-894b-f8b72d81ca91');\n",
              "          const dataTable =\n",
              "            await google.colab.kernel.invokeFunction('convertToInteractive',\n",
              "                                                     [key], {});\n",
              "          if (!dataTable) return;\n",
              "\n",
              "          const docLinkHtml = 'Like what you see? Visit the ' +\n",
              "            '<a target=\"_blank\" href=https://colab.research.google.com/notebooks/data_table.ipynb>data table notebook</a>'\n",
              "            + ' to learn more about interactive tables.';\n",
              "          element.innerHTML = '';\n",
              "          dataTable['output_type'] = 'display_data';\n",
              "          await google.colab.output.renderOutput(dataTable, element);\n",
              "          const docLink = document.createElement('div');\n",
              "          docLink.innerHTML = docLinkHtml;\n",
              "          element.appendChild(docLink);\n",
              "        }\n",
              "      </script>\n",
              "    </div>\n",
              "  </div>\n",
              "  "
            ],
            "text/plain": [
              "                                    id_name     smile_class\n",
              "0  7a0e7396-47ca-421c-84bc-de7c946fc163.jpg       NOT smile\n",
              "1  1e53ec28-b4c0-4eef-ad91-4940f535d354.jpg       NOT smile\n",
              "2  05f0d520-8e85-4490-a160-5a346fc21fd3.jpg  positive smile\n",
              "3  0adf2567-b325-47a8-a2c9-83b34c021163.jpg       NOT smile\n",
              "4  0df7e500-a1d0-44dd-923d-25809fa38611.jpg       NOT smile"
            ]
          },
          "metadata": {},
          "execution_count": 10
        }
      ],
      "source": [
        "test_data.head()"
      ]
    },
    {
      "cell_type": "code",
      "execution_count": 11,
      "metadata": {
        "colab": {
          "base_uri": "https://localhost:8080/"
        },
        "id": "a0xIAOvhxtOb",
        "outputId": "b9edbfd2-1919-40e0-ddf6-6df810297496"
      },
      "outputs": [
        {
          "output_type": "execute_result",
          "data": {
            "text/plain": [
              "(1611, 2)"
            ]
          },
          "metadata": {},
          "execution_count": 11
        }
      ],
      "source": [
        "test_data.shape"
      ]
    },
    {
      "cell_type": "code",
      "execution_count": 12,
      "metadata": {
        "colab": {
          "base_uri": "https://localhost:8080/"
        },
        "id": "mqmruBjr605Q",
        "outputId": "d11716ca-ef2f-4543-e910-20bab734a13e"
      },
      "outputs": [
        {
          "output_type": "stream",
          "name": "stdout",
          "text": [
            "{'NOT smile', 'positive smile', 'negative smile'}\n"
          ]
        },
        {
          "output_type": "execute_result",
          "data": {
            "text/plain": [
              "3"
            ]
          },
          "metadata": {},
          "execution_count": 12
        }
      ],
      "source": [
        "class_site=set(train_data[\"smile_class\"])\n",
        "print(class_site)\n",
        "len(class_site)"
      ]
    },
    {
      "cell_type": "code",
      "execution_count": 13,
      "metadata": {
        "colab": {
          "base_uri": "https://localhost:8080/"
        },
        "id": "q5NwhBdycQcf",
        "outputId": "46cd045b-759e-49b4-a773-0126f19d6c7c"
      },
      "outputs": [
        {
          "output_type": "execute_result",
          "data": {
            "text/plain": [
              "(4831, 2)"
            ]
          },
          "metadata": {},
          "execution_count": 13
        }
      ],
      "source": [
        "train_data.shape"
      ]
    },
    {
      "cell_type": "code",
      "execution_count": 14,
      "metadata": {
        "colab": {
          "base_uri": "https://localhost:8080/"
        },
        "id": "_AOGVTA9zC7B",
        "outputId": "c3846a73-19ea-47e3-a3dc-41dd8381bc17"
      },
      "outputs": [
        {
          "output_type": "execute_result",
          "data": {
            "text/plain": [
              "(1611, 2)"
            ]
          },
          "metadata": {},
          "execution_count": 14
        }
      ],
      "source": [
        "test_data.shape"
      ]
    },
    {
      "cell_type": "code",
      "execution_count": 15,
      "metadata": {
        "colab": {
          "base_uri": "https://localhost:8080/"
        },
        "id": "YgjV-Cp7bSNL",
        "outputId": "3f774cbd-3de1-493a-95bb-5a7122a7cfd3"
      },
      "outputs": [
        {
          "output_type": "stream",
          "name": "stdout",
          "text": [
            "<class 'pandas.core.frame.DataFrame'>\n",
            "RangeIndex: 4831 entries, 0 to 4830\n",
            "Data columns (total 2 columns):\n",
            " #   Column       Non-Null Count  Dtype \n",
            "---  ------       --------------  ----- \n",
            " 0   id_name      4831 non-null   object\n",
            " 1   smile_class  4831 non-null   object\n",
            "dtypes: object(2)\n",
            "memory usage: 75.6+ KB\n",
            "<class 'pandas.core.frame.DataFrame'>\n",
            "RangeIndex: 1611 entries, 0 to 1610\n",
            "Data columns (total 2 columns):\n",
            " #   Column       Non-Null Count  Dtype \n",
            "---  ------       --------------  ----- \n",
            " 0   id_name      1611 non-null   object\n",
            " 1   smile_class  1611 non-null   object\n",
            "dtypes: object(2)\n",
            "memory usage: 25.3+ KB\n"
          ]
        },
        {
          "output_type": "execute_result",
          "data": {
            "text/plain": [
              "(None, None)"
            ]
          },
          "metadata": {},
          "execution_count": 15
        }
      ],
      "source": [
        "train_data.info(),test_data.info()"
      ]
    },
    {
      "cell_type": "markdown",
      "metadata": {
        "id": "I7fuLHfhRJWT"
      },
      "source": [
        "** Creating generators to training model in a batch of images simultanously **"
      ]
    },
    {
      "cell_type": "code",
      "execution_count": 16,
      "metadata": {
        "id": "M7HzurKOjzXN"
      },
      "outputs": [],
      "source": [
        "from keras.utils.vis_utils import plot_model\n",
        "from keras.models import Model\n",
        "from keras.layers import Input\n",
        "from keras.layers.merge import concatenate\n",
        "import keras\n",
        "from keras.regularizers import l2\n",
        "from tensorflow.keras.layers import Conv2D, MaxPool2D, Dropout, Dense, Flatten, BatchNormalization\n",
        "datagen=ImageDataGenerator(rescale=1./255.,validation_split=0.10)"
      ]
    },
    {
      "cell_type": "code",
      "execution_count": 17,
      "metadata": {
        "colab": {
          "base_uri": "https://localhost:8080/"
        },
        "id": "mTGwQddtt4QQ",
        "outputId": "06c9351f-2d7e-407d-8006-a3a028675853"
      },
      "outputs": [
        {
          "output_type": "stream",
          "name": "stdout",
          "text": [
            "Found 4348 validated image filenames belonging to 3 classes.\n"
          ]
        }
      ],
      "source": [
        "train_generator=datagen.flow_from_dataframe(\n",
        "dataframe=train_data,\n",
        "directory=\"/content/drive/MyDrive/Project_smile_classification/happy_images/\",\n",
        "x_col=\"id_name\",\n",
        "y_col=\"smile_class\",\n",
        "subset=\"training\",\n",
        "batch_size=16,\n",
        "seed=42,\n",
        "shuffle=True,\n",
        "class_mode=\"categorical\",\n",
        "target_size=(32,32))"
      ]
    },
    {
      "cell_type": "code",
      "execution_count": 18,
      "metadata": {
        "colab": {
          "base_uri": "https://localhost:8080/"
        },
        "id": "JBuEJd-_t5dc",
        "outputId": "be12b43b-460f-4f31-bf81-73124f47bb36"
      },
      "outputs": [
        {
          "output_type": "stream",
          "name": "stdout",
          "text": [
            "Found 483 validated image filenames belonging to 3 classes.\n"
          ]
        }
      ],
      "source": [
        "valid_generator=datagen.flow_from_dataframe(\n",
        "dataframe=train_data,\n",
        "directory=r\"/content/drive/MyDrive/Project_smile_classification/happy_images/\",\n",
        "x_col=\"id_name\",\n",
        "y_col=\"smile_class\",\n",
        "subset=\"validation\",\n",
        "batch_size=16,\n",
        "seed=42,\n",
        "shuffle=True,\n",
        "class_mode=\"categorical\",\n",
        "target_size=(32,32))\n"
      ]
    },
    {
      "cell_type": "code",
      "execution_count": 19,
      "metadata": {
        "colab": {
          "base_uri": "https://localhost:8080/"
        },
        "id": "dcKkhEbB0oRz",
        "outputId": "09dd9904-03bc-42ba-f17f-d2ab0b8bd840"
      },
      "outputs": [
        {
          "output_type": "stream",
          "name": "stdout",
          "text": [
            "Found 1611 validated image filenames.\n"
          ]
        }
      ],
      "source": [
        "test_datagen=ImageDataGenerator(rescale=1./255.)\n",
        "test_generator=test_datagen.flow_from_dataframe(\n",
        "dataframe=test_data,\n",
        "directory=\"/content/drive/MyDrive/Project_smile_classification/happy_images/\",\n",
        "x_col=\"id_name\",\n",
        "y_col=None,\n",
        "batch_size=1,\n",
        "seed=42,\n",
        "shuffle=False,\n",
        "class_mode=None,\n",
        "target_size=(32,32))"
      ]
    },
    {
      "cell_type": "code",
      "execution_count": 20,
      "metadata": {
        "id": "NfBlab260TXV"
      },
      "outputs": [],
      "source": [
        "from keras.utils.vis_utils import plot_model\n",
        "from keras.models import Model\n",
        "from keras.layers import Input\n",
        "from keras.layers.merge import concatenate\n",
        "import keras\n",
        "from keras.regularizers import l2\n",
        "from ipykernel import kernelapp as app\n",
        "from keras import regularizers, optimizers\n",
        "from tensorflow.keras.layers import Conv2D, MaxPool2D, Dropout, Dense, Flatten, BatchNormalization\n"
      ]
    },
    {
      "cell_type": "markdown",
      "metadata": {
        "id": "MKHNGiQrdqt7"
      },
      "source": [
        "**CNN Model**"
      ]
    },
    {
      "cell_type": "code",
      "execution_count": 21,
      "metadata": {
        "id": "Q0jZ2HfTGsBB"
      },
      "outputs": [],
      "source": [
        "model = Sequential()\n",
        "model.add(Conv2D(32, (3, 3), padding='same',\n",
        "                 input_shape=(32,32,3)))\n",
        "model.add(Activation('relu'))\n",
        "model.add(Conv2D(32, (3, 3)))\n",
        "model.add(Activation('relu'))\n",
        "model.add(MaxPooling2D(pool_size=(2, 2)))\n",
        "model.add(Dropout(0.25))\n",
        "model.add(Conv2D(64, (3, 3), padding='same'))\n",
        "model.add(Activation('relu'))\n",
        "model.add(Conv2D(64, (3, 3)))\n",
        "model.add(Activation('relu'))\n",
        "model.add(MaxPooling2D(pool_size=(2, 2)))\n",
        "model.add(Dropout(0.25))\n",
        "model.add(Flatten())\n",
        "model.add(Dense(512))\n",
        "model.add(Activation('relu'))\n",
        "model.add(Dropout(0.5))\n",
        "model.add(Dense(3, activation='softmax'))\n",
        "\n",
        "model.compile(loss='categorical_crossentropy', optimizer='adam', metrics=['accuracy'])"
      ]
    },
    {
      "cell_type": "code",
      "execution_count": 22,
      "metadata": {
        "colab": {
          "base_uri": "https://localhost:8080/"
        },
        "id": "FyF8mMTM1x-F",
        "outputId": "1d527ebd-7466-42e2-e6b5-c152d190b3eb"
      },
      "outputs": [
        {
          "output_type": "stream",
          "name": "stdout",
          "text": [
            "Model: \"sequential\"\n",
            "_________________________________________________________________\n",
            " Layer (type)                Output Shape              Param #   \n",
            "=================================================================\n",
            " conv2d (Conv2D)             (None, 32, 32, 32)        896       \n",
            "                                                                 \n",
            " activation (Activation)     (None, 32, 32, 32)        0         \n",
            "                                                                 \n",
            " conv2d_1 (Conv2D)           (None, 30, 30, 32)        9248      \n",
            "                                                                 \n",
            " activation_1 (Activation)   (None, 30, 30, 32)        0         \n",
            "                                                                 \n",
            " max_pooling2d (MaxPooling2D  (None, 15, 15, 32)       0         \n",
            " )                                                               \n",
            "                                                                 \n",
            " dropout (Dropout)           (None, 15, 15, 32)        0         \n",
            "                                                                 \n",
            " conv2d_2 (Conv2D)           (None, 15, 15, 64)        18496     \n",
            "                                                                 \n",
            " activation_2 (Activation)   (None, 15, 15, 64)        0         \n",
            "                                                                 \n",
            " conv2d_3 (Conv2D)           (None, 13, 13, 64)        36928     \n",
            "                                                                 \n",
            " activation_3 (Activation)   (None, 13, 13, 64)        0         \n",
            "                                                                 \n",
            " max_pooling2d_1 (MaxPooling  (None, 6, 6, 64)         0         \n",
            " 2D)                                                             \n",
            "                                                                 \n",
            " dropout_1 (Dropout)         (None, 6, 6, 64)          0         \n",
            "                                                                 \n",
            " flatten (Flatten)           (None, 2304)              0         \n",
            "                                                                 \n",
            " dense (Dense)               (None, 512)               1180160   \n",
            "                                                                 \n",
            " activation_4 (Activation)   (None, 512)               0         \n",
            "                                                                 \n",
            " dropout_2 (Dropout)         (None, 512)               0         \n",
            "                                                                 \n",
            " dense_1 (Dense)             (None, 3)                 1539      \n",
            "                                                                 \n",
            "=================================================================\n",
            "Total params: 1,247,267\n",
            "Trainable params: 1,247,267\n",
            "Non-trainable params: 0\n",
            "_________________________________________________________________\n"
          ]
        }
      ],
      "source": [
        "model.summary()"
      ]
    },
    {
      "cell_type": "markdown",
      "metadata": {
        "id": "-9UBxPk4OPFe"
      },
      "source": [
        "**Training CNN Model**"
      ]
    },
    {
      "cell_type": "code",
      "execution_count": 23,
      "metadata": {
        "colab": {
          "base_uri": "https://localhost:8080/"
        },
        "id": "3rlWhYVO7WuI",
        "outputId": "fd6b189b-932a-4bfc-8939-4bc355cba1d6"
      },
      "outputs": [
        {
          "output_type": "stream",
          "name": "stdout",
          "text": [
            "Epoch 1/25\n",
            "271/271 [==============================] - 2472s 9s/step - loss: 0.8368 - accuracy: 0.6928 - val_loss: 0.8300 - val_accuracy: 0.6938\n",
            "Epoch 2/25\n",
            "271/271 [==============================] - 30s 111ms/step - loss: 0.8169 - accuracy: 0.6944 - val_loss: 0.8124 - val_accuracy: 0.6917\n",
            "Epoch 3/25\n",
            "271/271 [==============================] - 30s 111ms/step - loss: 0.8004 - accuracy: 0.6948 - val_loss: 0.8003 - val_accuracy: 0.6917\n",
            "Epoch 4/25\n",
            "271/271 [==============================] - 30s 112ms/step - loss: 0.7745 - accuracy: 0.6948 - val_loss: 0.7831 - val_accuracy: 0.7000\n",
            "Epoch 5/25\n",
            "271/271 [==============================] - 30s 112ms/step - loss: 0.7152 - accuracy: 0.7198 - val_loss: 0.7359 - val_accuracy: 0.7563\n",
            "Epoch 6/25\n",
            "271/271 [==============================] - 30s 112ms/step - loss: 0.6791 - accuracy: 0.7419 - val_loss: 0.7015 - val_accuracy: 0.7563\n",
            "Epoch 7/25\n",
            "271/271 [==============================] - 30s 112ms/step - loss: 0.6593 - accuracy: 0.7447 - val_loss: 0.6998 - val_accuracy: 0.7667\n",
            "Epoch 8/25\n",
            "271/271 [==============================] - 30s 112ms/step - loss: 0.6330 - accuracy: 0.7618 - val_loss: 0.6735 - val_accuracy: 0.7625\n",
            "Epoch 9/25\n",
            "271/271 [==============================] - 30s 112ms/step - loss: 0.6062 - accuracy: 0.7719 - val_loss: 0.8036 - val_accuracy: 0.7729\n",
            "Epoch 10/25\n",
            "271/271 [==============================] - 31s 112ms/step - loss: 0.6076 - accuracy: 0.7715 - val_loss: 0.6733 - val_accuracy: 0.7833\n",
            "Epoch 11/25\n",
            "271/271 [==============================] - 31s 113ms/step - loss: 0.5716 - accuracy: 0.7825 - val_loss: 0.6781 - val_accuracy: 0.7792\n",
            "Epoch 12/25\n",
            "271/271 [==============================] - 31s 113ms/step - loss: 0.5632 - accuracy: 0.7874 - val_loss: 0.7040 - val_accuracy: 0.7521\n",
            "Epoch 13/25\n",
            "271/271 [==============================] - 31s 113ms/step - loss: 0.5408 - accuracy: 0.7886 - val_loss: 0.7078 - val_accuracy: 0.7729\n",
            "Epoch 14/25\n",
            "271/271 [==============================] - 31s 113ms/step - loss: 0.5200 - accuracy: 0.7996 - val_loss: 0.7818 - val_accuracy: 0.7646\n",
            "Epoch 15/25\n",
            "271/271 [==============================] - 31s 113ms/step - loss: 0.5061 - accuracy: 0.8006 - val_loss: 0.7072 - val_accuracy: 0.7708\n",
            "Epoch 16/25\n",
            "271/271 [==============================] - 31s 113ms/step - loss: 0.4757 - accuracy: 0.8107 - val_loss: 0.7678 - val_accuracy: 0.7729\n",
            "Epoch 17/25\n",
            "271/271 [==============================] - 31s 113ms/step - loss: 0.4739 - accuracy: 0.8114 - val_loss: 0.7100 - val_accuracy: 0.7729\n",
            "Epoch 18/25\n",
            "271/271 [==============================] - 30s 112ms/step - loss: 0.4510 - accuracy: 0.8204 - val_loss: 0.7091 - val_accuracy: 0.7729\n",
            "Epoch 19/25\n",
            "271/271 [==============================] - 31s 113ms/step - loss: 0.4326 - accuracy: 0.8347 - val_loss: 0.7020 - val_accuracy: 0.7729\n",
            "Epoch 20/25\n",
            "271/271 [==============================] - 30s 112ms/step - loss: 0.4119 - accuracy: 0.8400 - val_loss: 0.7497 - val_accuracy: 0.7812\n",
            "Epoch 21/25\n",
            "271/271 [==============================] - 30s 112ms/step - loss: 0.3785 - accuracy: 0.8511 - val_loss: 0.8500 - val_accuracy: 0.7729\n",
            "Epoch 22/25\n",
            "271/271 [==============================] - 31s 113ms/step - loss: 0.3638 - accuracy: 0.8569 - val_loss: 0.8715 - val_accuracy: 0.7729\n",
            "Epoch 23/25\n",
            "271/271 [==============================] - 30s 112ms/step - loss: 0.3480 - accuracy: 0.8680 - val_loss: 0.8612 - val_accuracy: 0.7646\n",
            "Epoch 24/25\n",
            "271/271 [==============================] - 31s 113ms/step - loss: 0.3099 - accuracy: 0.8809 - val_loss: 0.8130 - val_accuracy: 0.7583\n",
            "Epoch 25/25\n",
            "271/271 [==============================] - 31s 114ms/step - loss: 0.3181 - accuracy: 0.8846 - val_loss: 0.9608 - val_accuracy: 0.7563\n"
          ]
        }
      ],
      "source": [
        "\n",
        "STEP_SIZE_TRAIN=train_generator.n//train_generator.batch_size\n",
        "STEP_SIZE_VALID=valid_generator.n//valid_generator.batch_size\n",
        "STEP_SIZE_TEST=test_generator.n//test_generator.batch_size\n",
        "history=model.fit(train_generator,\n",
        "                    steps_per_epoch=STEP_SIZE_TRAIN,\n",
        "                    validation_data=valid_generator,\n",
        "                    validation_steps=STEP_SIZE_VALID,\n",
        "                    epochs=25\n",
        ")"
      ]
    },
    {
      "cell_type": "markdown",
      "metadata": {
        "id": "K5TXx6AeOTU3"
      },
      "source": [
        "**Making Predictions based on what Model has Learned**"
      ]
    },
    {
      "cell_type": "code",
      "execution_count": 24,
      "metadata": {
        "colab": {
          "base_uri": "https://localhost:8080/"
        },
        "id": "27VdnkE0IBo3",
        "outputId": "e274f725-be9d-4dbc-fb7f-0f69093b8b6a"
      },
      "outputs": [
        {
          "output_type": "stream",
          "name": "stderr",
          "text": [
            "/usr/local/lib/python3.7/dist-packages/ipykernel_launcher.py:4: UserWarning: `Model.predict_generator` is deprecated and will be removed in a future version. Please use `Model.predict`, which supports generators.\n",
            "  after removing the cwd from sys.path.\n"
          ]
        },
        {
          "output_type": "stream",
          "name": "stdout",
          "text": [
            "1611/1611 [==============================] - 833s 517ms/step\n"
          ]
        }
      ],
      "source": [
        "test_generator.reset()\n",
        "pred=model.predict_generator(test_generator,\n",
        "steps=STEP_SIZE_TEST,\n",
        "verbose=1)"
      ]
    },
    {
      "cell_type": "code",
      "execution_count": 25,
      "metadata": {
        "colab": {
          "base_uri": "https://localhost:8080/"
        },
        "id": "PPcd-vprIBqr",
        "outputId": "68cec76f-8bb5-40af-defa-377192e04b05"
      },
      "outputs": [
        {
          "output_type": "execute_result",
          "data": {
            "text/plain": [
              "numpy.ndarray"
            ]
          },
          "metadata": {},
          "execution_count": 25
        }
      ],
      "source": [
        "type(pred)"
      ]
    },
    {
      "cell_type": "code",
      "execution_count": 26,
      "metadata": {
        "colab": {
          "base_uri": "https://localhost:8080/"
        },
        "id": "TjRrFhNVPS9X",
        "outputId": "d8195217-6b31-4445-d99e-93e07bc2f324"
      },
      "outputs": [
        {
          "output_type": "stream",
          "name": "stdout",
          "text": [
            "[[9.9890101e-01 8.8388781e-04 2.1506063e-04]\n",
            " [9.9387425e-01 4.4217240e-03 1.7040122e-03]\n",
            " [2.6020429e-03 3.3785827e-02 9.6361214e-01]\n",
            " ...\n",
            " [9.9834883e-01 1.0642251e-03 5.8700476e-04]\n",
            " [9.9996948e-01 2.7601600e-05 2.8735672e-06]\n",
            " [9.6155846e-01 6.9781751e-03 3.1463377e-02]]\n"
          ]
        }
      ],
      "source": [
        "print(pred)"
      ]
    },
    {
      "cell_type": "markdown",
      "metadata": {
        "id": "rLCHwa0oOiMD"
      },
      "source": [
        "**Predicting the class with Maximum Probability**"
      ]
    },
    {
      "cell_type": "code",
      "execution_count": 27,
      "metadata": {
        "colab": {
          "base_uri": "https://localhost:8080/"
        },
        "id": "Di3XXt_fnu5l",
        "outputId": "4ef63775-6ce6-4dcc-98bc-f757b1cc6c00"
      },
      "outputs": [
        {
          "output_type": "execute_result",
          "data": {
            "text/plain": [
              "array([[1., 0., 0.],\n",
              "       [1., 0., 0.],\n",
              "       [0., 0., 1.],\n",
              "       [1., 0., 0.],\n",
              "       [1., 0., 0.]], dtype=float32)"
            ]
          },
          "metadata": {},
          "execution_count": 27
        }
      ],
      "source": [
        "# y_pred_out=[]\n",
        "for row in pred:\n",
        "  mx=np.max(row)\n",
        "  k=0\n",
        "  for i in range(0,3):\n",
        "    if(row[i]==mx):\n",
        "      row[i]=1\n",
        "    else:\n",
        "      row[i]=0\n",
        "\n",
        "\n",
        "pred[0:5]"
      ]
    },
    {
      "cell_type": "code",
      "execution_count": 28,
      "metadata": {
        "colab": {
          "base_uri": "https://localhost:8080/"
        },
        "id": "xTxuGCuWoQDc",
        "outputId": "457e2562-7644-48dc-9ec2-33997760adbe"
      },
      "outputs": [
        {
          "output_type": "execute_result",
          "data": {
            "text/plain": [
              "(1335, 241, 35)"
            ]
          },
          "metadata": {},
          "execution_count": 28
        }
      ],
      "source": [
        "not_smile=0\n",
        "positive=0\n",
        "negative=0\n",
        "none=0\n",
        "\n",
        "for row in pred:\n",
        "  if(row[0]==1.0):\n",
        "    not_smile=not_smile+1\n",
        "  if(row[1]==1.0):\n",
        "    negative=negative+1\n",
        "  if(row[2]==1.0):\n",
        "    positive=positive+1\n",
        "# due to incompetible batch-size  \n",
        "not_smile,positive,negative"
      ]
    },
    {
      "cell_type": "markdown",
      "metadata": {
        "id": "FgCDdFlIOyWh"
      },
      "source": [
        "**Labeling the classes depending upon the predictions to evaluate Confusion matrix**"
      ]
    },
    {
      "cell_type": "code",
      "execution_count": 29,
      "metadata": {
        "id": "bd1T2HyTqdRv"
      },
      "outputs": [],
      "source": [
        "y_pred=[]\n",
        "\n",
        "for row in pred:\n",
        "  if(row[0]==1.0):\n",
        "    y_pred.append(\"NOT smile\")\n",
        "  if(row[1]==1.0):\n",
        "    y_pred.append(\"negative smile\")\n",
        "  if(row[2]==1.0):\n",
        "    y_pred.append(\"positive smile\")"
      ]
    },
    {
      "cell_type": "code",
      "execution_count": 30,
      "metadata": {
        "colab": {
          "base_uri": "https://localhost:8080/"
        },
        "id": "Dv8v0hucn0bb",
        "outputId": "4920db6e-2ae5-41ad-babf-d9a277fa281a"
      },
      "outputs": [
        {
          "output_type": "execute_result",
          "data": {
            "text/plain": [
              "array(['NOT smile', 'NOT smile', 'positive smile', ..., 'NOT smile',\n",
              "       'NOT smile', 'NOT smile'], dtype='<U14')"
            ]
          },
          "metadata": {},
          "execution_count": 30
        }
      ],
      "source": [
        "y_pred=np.array(y_pred)\n",
        "y_pred"
      ]
    },
    {
      "cell_type": "code",
      "execution_count": 31,
      "metadata": {
        "colab": {
          "base_uri": "https://localhost:8080/"
        },
        "id": "-HrARg17rP1B",
        "outputId": "02dcc578-9d92-4259-dc44-650cf3074da6"
      },
      "outputs": [
        {
          "output_type": "execute_result",
          "data": {
            "text/plain": [
              "array(['NOT smile', 'NOT smile', 'positive smile', ..., 'NOT smile',\n",
              "       'NOT smile', 'NOT smile'], dtype=object)"
            ]
          },
          "metadata": {},
          "execution_count": 31
        }
      ],
      "source": [
        "y_act=test_data[\"smile_class\"]\n",
        "y_act=np.array(y_act)\n",
        "y_act"
      ]
    },
    {
      "cell_type": "code",
      "execution_count": 32,
      "metadata": {
        "colab": {
          "base_uri": "https://localhost:8080/"
        },
        "id": "aBuw6k37uFD_",
        "outputId": "523e9482-e23c-44d7-dd00-5a5bb9752255"
      },
      "outputs": [
        {
          "output_type": "execute_result",
          "data": {
            "text/plain": [
              "(1611, 1611)"
            ]
          },
          "metadata": {},
          "execution_count": 32
        }
      ],
      "source": [
        "len(y_act),len(y_pred)"
      ]
    },
    {
      "cell_type": "markdown",
      "metadata": {
        "id": "chT-Ygo7PVIl"
      },
      "source": [
        "**Confusion Matrix on true_values VS predicted values**"
      ]
    },
    {
      "cell_type": "code",
      "execution_count": 34,
      "metadata": {
        "colab": {
          "base_uri": "https://localhost:8080/"
        },
        "id": "Q89AFUVTr64x",
        "outputId": "2af2a8c7-5c56-4fe9-f1fe-f0302a197193"
      },
      "outputs": [
        {
          "output_type": "execute_result",
          "data": {
            "text/plain": [
              "array([[1073,   10,   45],\n",
              "       [ 104,    8,   31],\n",
              "       [ 158,   17,  165]])"
            ]
          },
          "metadata": {},
          "execution_count": 34
        }
      ],
      "source": [
        "from sklearn.metrics import confusion_matrix\n",
        "confusion_matrix(y_act, y_pred)"
      ]
    },
    {
      "cell_type": "markdown",
      "metadata": {
        "id": "IR58kkfXPkIi"
      },
      "source": [
        "**Accuracy_Score on true_values VS predicted values**"
      ]
    },
    {
      "cell_type": "code",
      "execution_count": 35,
      "metadata": {
        "colab": {
          "base_uri": "https://localhost:8080/"
        },
        "id": "pHULDWhCuByx",
        "outputId": "fb240cb0-1c43-41d1-ad6f-4c388a4aa5bf"
      },
      "outputs": [
        {
          "output_type": "execute_result",
          "data": {
            "text/plain": [
              "0.7734326505276226"
            ]
          },
          "metadata": {},
          "execution_count": 35
        }
      ],
      "source": [
        "from sklearn.metrics import accuracy_score\n",
        "accuracy_score(y_act, y_pred)"
      ]
    },
    {
      "cell_type": "markdown",
      "metadata": {
        "id": "bA7cXWt9P-Pt"
      },
      "source": [
        "**Saving the predicted values in local system**"
      ]
    },
    {
      "cell_type": "code",
      "execution_count": null,
      "metadata": {
        "id": "bwrKYtPc5ft3"
      },
      "outputs": [],
      "source": [
        "# filenames=test_generator.filenames\n",
        "# results=pd.DataFrame({\"Filename\":filenames,\n",
        "#                       \"Predictions\":y_pred})\n",
        "# print(results)\n",
        "# # results.to_csv(\"results.csv\",index=False)"
      ]
    }
  ],
  "metadata": {
    "colab": {
      "collapsed_sections": [],
      "name": "smile_dectection_785.ipynb",
      "provenance": []
    },
    "kernelspec": {
      "display_name": "Python 3",
      "name": "python3"
    },
    "language_info": {
      "name": "python"
    }
  },
  "nbformat": 4,
  "nbformat_minor": 0
}